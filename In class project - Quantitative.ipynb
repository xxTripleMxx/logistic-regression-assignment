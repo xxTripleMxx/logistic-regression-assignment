{
 "cells": [
  {
   "cell_type": "code",
   "execution_count": 1,
   "metadata": {},
   "outputs": [
    {
     "name": "stderr",
     "output_type": "stream",
     "text": [
      "/home/mark/anaconda3/lib/python3.6/site-packages/statsmodels/compat/pandas.py:56: FutureWarning: The pandas.core.datetools module is deprecated and will be removed in a future version. Please use the pandas.tseries module instead.\n",
      "  from pandas.core import datetools\n"
     ]
    }
   ],
   "source": [
    "import numpy as np\n",
    "import pandas as pd\n",
    "import seaborn as sns\n",
    "import statsmodels.api as sm\n",
    "import matplotlib.pyplot as plt\n",
    "import sympy\n",
    "from sympy.solvers import solve\n",
    "\n",
    "\n",
    "np.set_printoptions(suppress=True)"
   ]
  },
  {
   "cell_type": "code",
   "execution_count": 2,
   "metadata": {
    "collapsed": true
   },
   "outputs": [],
   "source": [
    "clr_launch = {\"Flight Number\":[x for x in range(1,25)],\n",
    "              \"Date\":['1981-04-12', '1981-11-12', '1982-02-22', '1982-06-27', '1982-11-11', '1983-04-04',\n",
    "                     '1983-06-18', '1983-08-30', '1983-11-28', '1984-02-03', '1984-04-06', '1984-08-30',\n",
    "                     '1984-10-05', '1984-11-08', '1985-01-24', '1985-04-12', '1985-04-29', '1985-06-17',\n",
    "                     '1985-07-29', '1985-08-27', '1985-10-03', '1985-10-30', '1985-11-26', '1986-01-12'],\n",
    "             \"Ambient Temperature\":[66,70,69,80,68,67,72,73,70,57,63,70,78,67,53,67,75,70,81,76,79,75,76,58],\n",
    "             \"Successful Launch\":[1,0,1,float(\"nan\"), 1,1,1,1,1,0,0,0,1,1,0,1,1,1,1,1,1,0,1,0]}\n",
    "clr_launch = pd.DataFrame(clr_launch).dropna()\n",
    "clr_launch['Date'] = pd.to_datetime(clr_launch['Date'])\n",
    "clr_launch = clr_launch.set_index('Flight Number')"
   ]
  },
  {
   "cell_type": "code",
   "execution_count": 3,
   "metadata": {
    "scrolled": true
   },
   "outputs": [
    {
     "data": {
      "text/html": [
       "<div>\n",
       "<style>\n",
       "    .dataframe thead tr:only-child th {\n",
       "        text-align: right;\n",
       "    }\n",
       "\n",
       "    .dataframe thead th {\n",
       "        text-align: left;\n",
       "    }\n",
       "\n",
       "    .dataframe tbody tr th {\n",
       "        vertical-align: top;\n",
       "    }\n",
       "</style>\n",
       "<table border=\"1\" class=\"dataframe\">\n",
       "  <thead>\n",
       "    <tr style=\"text-align: right;\">\n",
       "      <th></th>\n",
       "      <th>Ambient Temperature</th>\n",
       "      <th>Date</th>\n",
       "      <th>Successful Launch</th>\n",
       "    </tr>\n",
       "    <tr>\n",
       "      <th>Flight Number</th>\n",
       "      <th></th>\n",
       "      <th></th>\n",
       "      <th></th>\n",
       "    </tr>\n",
       "  </thead>\n",
       "  <tbody>\n",
       "    <tr>\n",
       "      <th>1</th>\n",
       "      <td>66</td>\n",
       "      <td>1981-04-12</td>\n",
       "      <td>1.0</td>\n",
       "    </tr>\n",
       "    <tr>\n",
       "      <th>2</th>\n",
       "      <td>70</td>\n",
       "      <td>1981-11-12</td>\n",
       "      <td>0.0</td>\n",
       "    </tr>\n",
       "    <tr>\n",
       "      <th>3</th>\n",
       "      <td>69</td>\n",
       "      <td>1982-02-22</td>\n",
       "      <td>1.0</td>\n",
       "    </tr>\n",
       "    <tr>\n",
       "      <th>5</th>\n",
       "      <td>68</td>\n",
       "      <td>1982-11-11</td>\n",
       "      <td>1.0</td>\n",
       "    </tr>\n",
       "    <tr>\n",
       "      <th>6</th>\n",
       "      <td>67</td>\n",
       "      <td>1983-04-04</td>\n",
       "      <td>1.0</td>\n",
       "    </tr>\n",
       "    <tr>\n",
       "      <th>7</th>\n",
       "      <td>72</td>\n",
       "      <td>1983-06-18</td>\n",
       "      <td>1.0</td>\n",
       "    </tr>\n",
       "    <tr>\n",
       "      <th>8</th>\n",
       "      <td>73</td>\n",
       "      <td>1983-08-30</td>\n",
       "      <td>1.0</td>\n",
       "    </tr>\n",
       "    <tr>\n",
       "      <th>9</th>\n",
       "      <td>70</td>\n",
       "      <td>1983-11-28</td>\n",
       "      <td>1.0</td>\n",
       "    </tr>\n",
       "    <tr>\n",
       "      <th>10</th>\n",
       "      <td>57</td>\n",
       "      <td>1984-02-03</td>\n",
       "      <td>0.0</td>\n",
       "    </tr>\n",
       "    <tr>\n",
       "      <th>11</th>\n",
       "      <td>63</td>\n",
       "      <td>1984-04-06</td>\n",
       "      <td>0.0</td>\n",
       "    </tr>\n",
       "    <tr>\n",
       "      <th>12</th>\n",
       "      <td>70</td>\n",
       "      <td>1984-08-30</td>\n",
       "      <td>0.0</td>\n",
       "    </tr>\n",
       "    <tr>\n",
       "      <th>13</th>\n",
       "      <td>78</td>\n",
       "      <td>1984-10-05</td>\n",
       "      <td>1.0</td>\n",
       "    </tr>\n",
       "    <tr>\n",
       "      <th>14</th>\n",
       "      <td>67</td>\n",
       "      <td>1984-11-08</td>\n",
       "      <td>1.0</td>\n",
       "    </tr>\n",
       "    <tr>\n",
       "      <th>15</th>\n",
       "      <td>53</td>\n",
       "      <td>1985-01-24</td>\n",
       "      <td>0.0</td>\n",
       "    </tr>\n",
       "    <tr>\n",
       "      <th>16</th>\n",
       "      <td>67</td>\n",
       "      <td>1985-04-12</td>\n",
       "      <td>1.0</td>\n",
       "    </tr>\n",
       "    <tr>\n",
       "      <th>17</th>\n",
       "      <td>75</td>\n",
       "      <td>1985-04-29</td>\n",
       "      <td>1.0</td>\n",
       "    </tr>\n",
       "    <tr>\n",
       "      <th>18</th>\n",
       "      <td>70</td>\n",
       "      <td>1985-06-17</td>\n",
       "      <td>1.0</td>\n",
       "    </tr>\n",
       "    <tr>\n",
       "      <th>19</th>\n",
       "      <td>81</td>\n",
       "      <td>1985-07-29</td>\n",
       "      <td>1.0</td>\n",
       "    </tr>\n",
       "    <tr>\n",
       "      <th>20</th>\n",
       "      <td>76</td>\n",
       "      <td>1985-08-27</td>\n",
       "      <td>1.0</td>\n",
       "    </tr>\n",
       "    <tr>\n",
       "      <th>21</th>\n",
       "      <td>79</td>\n",
       "      <td>1985-10-03</td>\n",
       "      <td>1.0</td>\n",
       "    </tr>\n",
       "    <tr>\n",
       "      <th>22</th>\n",
       "      <td>75</td>\n",
       "      <td>1985-10-30</td>\n",
       "      <td>0.0</td>\n",
       "    </tr>\n",
       "    <tr>\n",
       "      <th>23</th>\n",
       "      <td>76</td>\n",
       "      <td>1985-11-26</td>\n",
       "      <td>1.0</td>\n",
       "    </tr>\n",
       "    <tr>\n",
       "      <th>24</th>\n",
       "      <td>58</td>\n",
       "      <td>1986-01-12</td>\n",
       "      <td>0.0</td>\n",
       "    </tr>\n",
       "  </tbody>\n",
       "</table>\n",
       "</div>"
      ],
      "text/plain": [
       "               Ambient Temperature       Date  Successful Launch\n",
       "Flight Number                                                   \n",
       "1                               66 1981-04-12                1.0\n",
       "2                               70 1981-11-12                0.0\n",
       "3                               69 1982-02-22                1.0\n",
       "5                               68 1982-11-11                1.0\n",
       "6                               67 1983-04-04                1.0\n",
       "7                               72 1983-06-18                1.0\n",
       "8                               73 1983-08-30                1.0\n",
       "9                               70 1983-11-28                1.0\n",
       "10                              57 1984-02-03                0.0\n",
       "11                              63 1984-04-06                0.0\n",
       "12                              70 1984-08-30                0.0\n",
       "13                              78 1984-10-05                1.0\n",
       "14                              67 1984-11-08                1.0\n",
       "15                              53 1985-01-24                0.0\n",
       "16                              67 1985-04-12                1.0\n",
       "17                              75 1985-04-29                1.0\n",
       "18                              70 1985-06-17                1.0\n",
       "19                              81 1985-07-29                1.0\n",
       "20                              76 1985-08-27                1.0\n",
       "21                              79 1985-10-03                1.0\n",
       "22                              75 1985-10-30                0.0\n",
       "23                              76 1985-11-26                1.0\n",
       "24                              58 1986-01-12                0.0"
      ]
     },
     "execution_count": 3,
     "metadata": {},
     "output_type": "execute_result"
    }
   ],
   "source": [
    "clr_launch"
   ]
  },
  {
   "cell_type": "markdown",
   "metadata": {},
   "source": [
    "## 2. Graphs to display the link between Ambient Temperature and Launch Success"
   ]
  },
  {
   "cell_type": "code",
   "execution_count": 4,
   "metadata": {},
   "outputs": [
    {
     "data": {
      "image/png": "[encoded data removed]",
      "text/plain": [
       "<matplotlib.figure.Figure at 0x7fcb483a5f98>"
      ]
     },
     "metadata": {},
     "output_type": "display_data"
    },
    {
     "data": {
      "image/png": "[encoded data removed]",
      "text/plain": [
       "<matplotlib.figure.Figure at 0x7fcb40d2e9b0>"
      ]
     },
     "metadata": {},
     "output_type": "display_data"
    }
   ],
   "source": [
    "sns.boxplot(data=clr_launch, x=\"Successful Launch\", y=\"Ambient Temperature\")\n",
    "plt.show()\n",
    "\n",
    "suc_facet = sns.FacetGrid(data=clr_launch, col=\"Successful Launch\")\n",
    "suc_facet = suc_facet.map(plt.hist, \"Ambient Temperature\")\n",
    "plt.show()"
   ]
  },
  {
   "cell_type": "markdown",
   "metadata": {},
   "source": [
    "## 3. Scatterplot with regression line & Linear Regression Equation"
   ]
  },
  {
   "cell_type": "code",
   "execution_count": 5,
   "metadata": {},
   "outputs": [
    {
     "data": {
      "image/png": "[encoded data removed]",
      "text/plain": [
       "<matplotlib.figure.Figure at 0x7fcb40c578d0>"
      ]
     },
     "metadata": {},
     "output_type": "display_data"
    }
   ],
   "source": [
    "sns.lmplot(data=clr_launch, x=\"Ambient Temperature\", y=\"Successful Launch\")\n",
    "plt.show()"
   ]
  },
  {
   "cell_type": "code",
   "execution_count": 6,
   "metadata": {},
   "outputs": [
    {
     "data": {
      "text/html": [
       "<table class=\"simpletable\">\n",
       "<caption>OLS Regression Results</caption>\n",
       "<tr>\n",
       "  <th>Dep. Variable:</th>    <td>Successful Launch</td> <th>  R-squared:         </th> <td>   0.314</td>\n",
       "</tr>\n",
       "<tr>\n",
       "  <th>Model:</th>                   <td>OLS</td>        <th>  Adj. R-squared:    </th> <td>   0.282</td>\n",
       "</tr>\n",
       "<tr>\n",
       "  <th>Method:</th>             <td>Least Squares</td>   <th>  F-statistic:       </th> <td>   9.630</td>\n",
       "</tr>\n",
       "<tr>\n",
       "  <th>Date:</th>             <td>Thu, 19 Apr 2018</td>  <th>  Prob (F-statistic):</th>  <td>0.00538</td>\n",
       "</tr>\n",
       "<tr>\n",
       "  <th>Time:</th>                 <td>09:00:41</td>      <th>  Log-Likelihood:    </th> <td> -10.441</td>\n",
       "</tr>\n",
       "<tr>\n",
       "  <th>No. Observations:</th>      <td>    23</td>       <th>  AIC:               </th> <td>   24.88</td>\n",
       "</tr>\n",
       "<tr>\n",
       "  <th>Df Residuals:</th>          <td>    21</td>       <th>  BIC:               </th> <td>   27.15</td>\n",
       "</tr>\n",
       "<tr>\n",
       "  <th>Df Model:</th>              <td>     1</td>       <th>                     </th>     <td> </td>   \n",
       "</tr>\n",
       "<tr>\n",
       "  <th>Covariance Type:</th>      <td>nonrobust</td>     <th>                     </th>     <td> </td>   \n",
       "</tr>\n",
       "</table>\n",
       "<table class=\"simpletable\">\n",
       "<tr>\n",
       "    <td></td>       <th>coef</th>     <th>std err</th>      <th>t</th>      <th>P>|t|</th>  <th>[0.025</th>    <th>0.975]</th>  \n",
       "</tr>\n",
       "<tr>\n",
       "  <th>const</th> <td>   -1.9048</td> <td>    0.842</td> <td>   -2.262</td> <td> 0.034</td> <td>   -3.656</td> <td>   -0.154</td>\n",
       "</tr>\n",
       "<tr>\n",
       "  <th>x1</th>    <td>    0.0374</td> <td>    0.012</td> <td>    3.103</td> <td> 0.005</td> <td>    0.012</td> <td>    0.062</td>\n",
       "</tr>\n",
       "</table>\n",
       "<table class=\"simpletable\">\n",
       "<tr>\n",
       "  <th>Omnibus:</th>       <td> 4.037</td> <th>  Durbin-Watson:     </th> <td>   1.811</td>\n",
       "</tr>\n",
       "<tr>\n",
       "  <th>Prob(Omnibus):</th> <td> 0.133</td> <th>  Jarque-Bera (JB):  </th> <td>   3.150</td>\n",
       "</tr>\n",
       "<tr>\n",
       "  <th>Skew:</th>          <td>-0.903</td> <th>  Prob(JB):          </th> <td>   0.207</td>\n",
       "</tr>\n",
       "<tr>\n",
       "  <th>Kurtosis:</th>      <td> 2.836</td> <th>  Cond. No.          </th> <td>    708.</td>\n",
       "</tr>\n",
       "</table>"
      ],
      "text/plain": [
       "<class 'statsmodels.iolib.summary.Summary'>\n",
       "\"\"\"\n",
       "                            OLS Regression Results                            \n",
       "==============================================================================\n",
       "Dep. Variable:      Successful Launch   R-squared:                       0.314\n",
       "Model:                            OLS   Adj. R-squared:                  0.282\n",
       "Method:                 Least Squares   F-statistic:                     9.630\n",
       "Date:                Thu, 19 Apr 2018   Prob (F-statistic):            0.00538\n",
       "Time:                        09:00:41   Log-Likelihood:                -10.441\n",
       "No. Observations:                  23   AIC:                             24.88\n",
       "Df Residuals:                      21   BIC:                             27.15\n",
       "Df Model:                           1                                         \n",
       "Covariance Type:            nonrobust                                         \n",
       "==============================================================================\n",
       "                 coef    std err          t      P>|t|      [0.025      0.975]\n",
       "------------------------------------------------------------------------------\n",
       "const         -1.9048      0.842     -2.262      0.034      -3.656      -0.154\n",
       "x1             0.0374      0.012      3.103      0.005       0.012       0.062\n",
       "==============================================================================\n",
       "Omnibus:                        4.037   Durbin-Watson:                   1.811\n",
       "Prob(Omnibus):                  0.133   Jarque-Bera (JB):                3.150\n",
       "Skew:                          -0.903   Prob(JB):                        0.207\n",
       "Kurtosis:                       2.836   Cond. No.                         708.\n",
       "==============================================================================\n",
       "\n",
       "Warnings:\n",
       "[1] Standard Errors assume that the covariance matrix of the errors is correctly specified.\n",
       "\"\"\""
      ]
     },
     "execution_count": 6,
     "metadata": {},
     "output_type": "execute_result"
    }
   ],
   "source": [
    "X = clr_launch['Ambient Temperature'].values\n",
    "X = sm.add_constant(X)\n",
    "\n",
    "model = sm.OLS(clr_launch['Successful Launch'], X).fit()\n",
    "model.summary()"
   ]
  },
  {
   "cell_type": "code",
   "execution_count": 7,
   "metadata": {},
   "outputs": [
    {
     "name": "stdout",
     "output_type": "stream",
     "text": [
      "EQUATION: yhat = 0.037381 * X-1.904762\n",
      "\n",
      "Statsmodels predicted values : \n",
      "yhat 60 = 0.338095238095\n",
      "yhat 85 = 1.27261904762\n"
     ]
    }
   ],
   "source": [
    "preds = model.predict([[1,60], [1,85]])\n",
    "coef = round(model.params[1],6)\n",
    "const = round(model.params[0], 6)\n",
    "\n",
    "print('EQUATION: yhat = '+str(coef)+' * X'+str(const))\n",
    "print()\n",
    "print(\"Statsmodels predicted values : \\n\"+\"yhat 60 = \"+str(preds[0])+\"\\n\"+\"yhat 85 = \"+str(preds[1]))"
   ]
  },
  {
   "cell_type": "markdown",
   "metadata": {},
   "source": [
    "## 4. Solve Equation 7.5"
   ]
  },
  {
   "cell_type": "markdown",
   "metadata": {},
   "source": [
    "Linear function $$y=b_0 + b_1(x)$$"
   ]
  },
  {
   "cell_type": "markdown",
   "metadata": {},
   "source": [
    "Sigmoid function $$ p = \\frac{1}{1+e^{-y}}$$"
   ]
  },
  {
   "cell_type": "markdown",
   "metadata": {},
   "source": [
    "Combine the 2 previous calculations so that we're solving for y ..."
   ]
  },
  {
   "cell_type": "markdown",
   "metadata": {
    "collapsed": true
   },
   "source": [
    "$$ln\\biggl(\\frac{\\pi_i}{1 - \\pi_i}\\biggl) = \\beta_ 0 + \\beta_ 1x_i$$"
   ]
  },
  {
   "cell_type": "markdown",
   "metadata": {},
   "source": [
    "And then calculas again to have it solve for probability ..."
   ]
  },
  {
   "cell_type": "markdown",
   "metadata": {},
   "source": [
    "$$\\pi_i = \\frac{e^{\\beta_0 + \\beta_1x_i}}{1 + e^{\\beta_0 + \\beta_1x_i}}$$"
   ]
  },
  {
   "cell_type": "markdown",
   "metadata": {},
   "source": [
    "bam."
   ]
  },
  {
   "cell_type": "markdown",
   "metadata": {
    "collapsed": true
   },
   "source": [
    "## 5. Use equation 7.6 to create 6 graphs ..."
   ]
  },
  {
   "cell_type": "code",
   "execution_count": 10,
   "metadata": {
    "collapsed": true
   },
   "outputs": [],
   "source": [
    "def equation(scores):\n",
    "    sig = np.exp(scores) / (1 + np.exp(scores))\n",
    "    \n",
    "    return sig"
   ]
  },
  {
   "cell_type": "code",
   "execution_count": 11,
   "metadata": {},
   "outputs": [
    {
     "data": {
      "image/png": "[encoded data removed]",
      "text/plain": [
       "<matplotlib.figure.Figure at 0x7fcb40cddac8>"
      ]
     },
     "metadata": {},
     "output_type": "display_data"
    },
    {
     "data": {
      "image/png": "[encoded data removed]",
      "text/plain": [
       "<matplotlib.figure.Figure at 0x7fcb40664cc0>"
      ]
     },
     "metadata": {},
     "output_type": "display_data"
    },
    {
     "data": {
      "image/png": "[encoded data removed]",
      "text/plain": [
       "<matplotlib.figure.Figure at 0x7fcb40b09dd8>"
      ]
     },
     "metadata": {},
     "output_type": "display_data"
    },
    {
     "data": {
      "image/png": "[encoded data removed]",
      "text/plain": [
       "<matplotlib.figure.Figure at 0x7fcb4049ceb8>"
      ]
     },
     "metadata": {},
     "output_type": "display_data"
    },
    {
     "data": {
      "image/png": "[encoded data removed]",
      "text/plain": [
       "<matplotlib.figure.Figure at 0x7fcb40571940>"
      ]
     },
     "metadata": {},
     "output_type": "display_data"
    },
    {
     "data": {
      "image/png": "[encoded data removed]",
      "text/plain": [
       "<matplotlib.figure.Figure at 0x7fcb40b16f28>"
      ]
     },
     "metadata": {},
     "output_type": "display_data"
    }
   ],
   "source": [
    "xvals = np.arange(0,10, .1)\n",
    "bvals = np.array([[-10, 0.5], [-5, 1], [0, 1.5], [10, -0.5], [5, -1], [0, -1.5]])\n",
    "\n",
    "for b in bvals:\n",
    "    plt.plot(xvals, [equation(b[0] + b[1]*n) for n in xvals])\n",
    "    plt.show()\n",
    "    \n",
    "# beta1's which give the highest level of weight to our x values innevitably create the steepest slopes."
   ]
  },
  {
   "cell_type": "markdown",
   "metadata": {
    "collapsed": true
   },
   "source": [
    "## 6. compare probabilities from logistic to linear"
   ]
  },
  {
   "cell_type": "code",
   "execution_count": 12,
   "metadata": {},
   "outputs": [
    {
     "name": "stdout",
     "output_type": "stream",
     "text": [
      "Optimization terminated successfully.\n",
      "         Current function value: 0.441635\n",
      "         Iterations 7\n",
      "\n",
      "SS for logistic model:\n",
      "6.44885930421\n",
      "MLE Hessian values for logistic model:\n",
      "[[  -0.14185851   -9.64343583]\n",
      " [  -9.64343583 -659.2648879 ]]\n",
      "\n",
      "SS for linear model:\n",
      "7.0419047619\n"
     ]
    }
   ],
   "source": [
    "lm_predicts = model.predict()\n",
    "\n",
    "X = clr_launch['Ambient Temperature'].values\n",
    "X = sm.add_constant(X)\n",
    "\n",
    "logmodel = sm.Logit(clr_launch['Successful Launch'], X).fit()\n",
    "logmodel_predict = logmodel.predict()\n",
    "\n",
    "# 3 misclassifications between linear and actual\n",
    "print()\n",
    "print(\"SS for logistic model:\")\n",
    "print(sum(abs(logmodel_predict - clr_launch['Successful Launch'])))\n",
    "print(\"MLE Hessian values for logistic model:\")\n",
    "print(logmodel.mle_retvals['Hessian'])\n",
    "# 3 misclassifications between linear and actual\n",
    "print()\n",
    "print(\"SS for linear model:\")\n",
    "print(sum(abs(lm_predicts - clr_launch['Successful Launch'])))"
   ]
  },
  {
   "cell_type": "markdown",
   "metadata": {},
   "source": [
    "## 7. Predict likelihood of o-ring failure given the logistic regression equation ..."
   ]
  },
  {
   "cell_type": "code",
   "execution_count": 13,
   "metadata": {
    "collapsed": true
   },
   "outputs": [],
   "source": [
    "def oring_log(x):\n",
    "    return np.exp(-15.043+0.232*x) / (1 + np.exp(-15.043 + 0.232*x))"
   ]
  },
  {
   "cell_type": "code",
   "execution_count": 14,
   "metadata": {},
   "outputs": [
    {
     "name": "stdout",
     "output_type": "stream",
     "text": [
      "Probability of no O-ring failure at 31 Farenheit:\n",
      "0.000389\n",
      "\n",
      "Probability of no O-ring failure at 50 Farenheit:\n",
      "0.030978\n",
      "\n",
      "Probability of no O-ring failure at 75 Farenheit:\n",
      "0.913489\n",
      "\n"
     ]
    }
   ],
   "source": [
    "for t in [31, 50, 75]:\n",
    "    print('Probability of no O-ring failure at '+str(t)+\" Farenheit:\")\n",
    "    print(round(oring_log(t),6))\n",
    "    print()"
   ]
  },
  {
   "cell_type": "markdown",
   "metadata": {},
   "source": [
    "## 8. Predict at 60 and 70 ... "
   ]
  },
  {
   "cell_type": "code",
   "execution_count": 15,
   "metadata": {},
   "outputs": [
    {
     "name": "stdout",
     "output_type": "stream",
     "text": [
      "Odds of no damage at 60: 0.247286518475\n",
      "Odds of no damage at 70: 0.770031742164\n"
     ]
    }
   ],
   "source": [
    "lg_pred = logmodel.predict([[1,60], [1,70]])\n",
    "print(\"Odds of no damage at 60: \"+ str(lg_pred[0]))\n",
    "print(\"Odds of no damage at 70: \"+ str(lg_pred[1]))"
   ]
  },
  {
   "cell_type": "markdown",
   "metadata": {
    "collapsed": true
   },
   "source": [
    "## 9. increments between 60 & 70"
   ]
  },
  {
   "cell_type": "code",
   "execution_count": 16,
   "metadata": {},
   "outputs": [
    {
     "name": "stdout",
     "output_type": "stream",
     "text": [
      "We would expect the odds to change by 3.113925 between 60 and 70 degrees\n"
     ]
    }
   ],
   "source": [
    "odds_rat = logmodel.predict([1,70]) / logmodel.predict([1,60])\n",
    "print(\"We would expect the odds to change by \"+str(round(odds_rat[0], 6))+' between 60 and 70 degrees')"
   ]
  },
  {
   "cell_type": "markdown",
   "metadata": {},
   "source": [
    "## 10. explain odds diff from 52 to 51 relative to 60 to 59"
   ]
  },
  {
   "cell_type": "code",
   "execution_count": 17,
   "metadata": {},
   "outputs": [
    {
     "name": "stdout",
     "output_type": "stream",
     "text": [
      "Difference in probs between 60 and 59:  0.0406466490884\n",
      "Difference in probs between 51 and 52:  0.00971141799093\n"
     ]
    }
   ],
   "source": [
    "diff6059 = logmodel.predict([1,60]) - logmodel.predict([1,59])\n",
    "diff5251 = logmodel.predict([1,52]) - logmodel.predict([1,51])\n",
    "print(\"Difference in probs between 60 and 59: \", *diff6059)\n",
    "print(\"Difference in probs between 51 and 52: \", *diff5251)"
   ]
  },
  {
   "cell_type": "markdown",
   "metadata": {
    "collapsed": true
   },
   "source": [
    "51-52 is along the base of the S-curve (or sigmoid) still and as such, differences in probabilties are being minimized since 51 and 52 farenheit are both likely to be classed as a failed launch. As the temperature increases, that certainty diminishes and probabilities rise quicker through the 50% certainty mark until hitting the mirror state of the S curve where certainty becomes more established and larger increases in temperature are required to increase probability."
   ]
  },
  {
   "cell_type": "markdown",
   "metadata": {
    "collapsed": true
   },
   "source": [
    "## 11. Plot 2 logistic regressions using OLS and ML"
   ]
  },
  {
   "cell_type": "code",
   "execution_count": 18,
   "metadata": {},
   "outputs": [
    {
     "data": {
      "image/png": "[encoded data removed]",
      "text/plain": [
       "<matplotlib.figure.Figure at 0x7fcb40c08ac8>"
      ]
     },
     "metadata": {},
     "output_type": "display_data"
    },
    {
     "data": {
      "image/png": "[encoded data removed]",
      "text/plain": [
       "<matplotlib.figure.Figure at 0x7fcb40c30f28>"
      ]
     },
     "metadata": {},
     "output_type": "display_data"
    }
   ],
   "source": [
    "plt.plot(clr_launch['Ambient Temperature'], model.predict())\n",
    "plt.show()\n",
    "\n",
    "logdf = pd.DataFrame(logmodel.predict().tolist(), clr_launch['Ambient Temperature'].tolist())\n",
    "logdf.columns = ['logpred']\n",
    "logdf.sort_values('logpred').plot()\n",
    "plt.show()"
   ]
  },
  {
   "cell_type": "markdown",
   "metadata": {
    "collapsed": true
   },
   "source": [
    "## 12. Odds ratio and confidence interval"
   ]
  },
  {
   "cell_type": "code",
   "execution_count": 19,
   "metadata": {},
   "outputs": [
    {
     "name": "stdout",
     "output_type": "stream",
     "text": [
      "Odds Ratio is: 632.095347955\n",
      "The confidence interval as supplied by Wald Test is: 4.14298771728\n",
      "95% confidence interval as supplied by Wald test is: 0.04180731826690692\n"
     ]
    }
   ],
   "source": [
    "odds_rat = logmodel.predict([1,60]) / logmodel.predict([1,31])\n",
    "print(\"Odds Ratio is: \"+str(*odds_rat))\n",
    "\n",
    "R = [[31,60]]\n",
    "wstat = logmodel.wald_test(R)\n",
    "print(\"The confidence interval as supplied by Wald Test is: \"+str(*wstat.statistic[0]))\n",
    "print(\"95% confidence interval as supplied by Wald test is: \"+str(wstat.pvalue))"
   ]
  },
  {
   "cell_type": "markdown",
   "metadata": {},
   "source": [
    "## 13. Reverse 0 and 1 and answer some questions ..."
   ]
  },
  {
   "cell_type": "code",
   "execution_count": 20,
   "metadata": {},
   "outputs": [
    {
     "name": "stdout",
     "output_type": "stream",
     "text": [
      "Optimization terminated successfully.\n",
      "         Current function value: 0.441635\n",
      "         Iterations 7\n"
     ]
    },
    {
     "data": {
      "text/html": [
       "<table class=\"simpletable\">\n",
       "<caption>Logit Regression Results</caption>\n",
       "<tr>\n",
       "  <th>Dep. Variable:</th> <td>Successful Launch</td> <th>  No. Observations:  </th>  <td>    23</td> \n",
       "</tr>\n",
       "<tr>\n",
       "  <th>Model:</th>               <td>Logit</td>       <th>  Df Residuals:      </th>  <td>    21</td> \n",
       "</tr>\n",
       "<tr>\n",
       "  <th>Method:</th>               <td>MLE</td>        <th>  Df Model:          </th>  <td>     1</td> \n",
       "</tr>\n",
       "<tr>\n",
       "  <th>Date:</th>          <td>Thu, 19 Apr 2018</td>  <th>  Pseudo R-squ.:     </th>  <td>0.2813</td> \n",
       "</tr>\n",
       "<tr>\n",
       "  <th>Time:</th>              <td>09:33:05</td>      <th>  Log-Likelihood:    </th> <td> -10.158</td>\n",
       "</tr>\n",
       "<tr>\n",
       "  <th>converged:</th>           <td>True</td>        <th>  LL-Null:           </th> <td> -14.134</td>\n",
       "</tr>\n",
       "<tr>\n",
       "  <th> </th>                      <td> </td>         <th>  LLR p-value:       </th> <td>0.004804</td>\n",
       "</tr>\n",
       "</table>\n",
       "<table class=\"simpletable\">\n",
       "<tr>\n",
       "    <td></td>       <th>coef</th>     <th>std err</th>      <th>z</th>      <th>P>|z|</th>  <th>[0.025</th>    <th>0.975]</th>  \n",
       "</tr>\n",
       "<tr>\n",
       "  <th>const</th> <td>   15.0429</td> <td>    7.379</td> <td>    2.039</td> <td> 0.041</td> <td>    0.581</td> <td>   29.505</td>\n",
       "</tr>\n",
       "<tr>\n",
       "  <th>x1</th>    <td>   -0.2322</td> <td>    0.108</td> <td>   -2.145</td> <td> 0.032</td> <td>   -0.444</td> <td>   -0.020</td>\n",
       "</tr>\n",
       "</table>"
      ],
      "text/plain": [
       "<class 'statsmodels.iolib.summary.Summary'>\n",
       "\"\"\"\n",
       "                           Logit Regression Results                           \n",
       "==============================================================================\n",
       "Dep. Variable:      Successful Launch   No. Observations:                   23\n",
       "Model:                          Logit   Df Residuals:                       21\n",
       "Method:                           MLE   Df Model:                            1\n",
       "Date:                Thu, 19 Apr 2018   Pseudo R-squ.:                  0.2813\n",
       "Time:                        09:33:05   Log-Likelihood:                -10.158\n",
       "converged:                       True   LL-Null:                       -14.134\n",
       "                                        LLR p-value:                  0.004804\n",
       "==============================================================================\n",
       "                 coef    std err          z      P>|z|      [0.025      0.975]\n",
       "------------------------------------------------------------------------------\n",
       "const         15.0429      7.379      2.039      0.041       0.581      29.505\n",
       "x1            -0.2322      0.108     -2.145      0.032      -0.444      -0.020\n",
       "==============================================================================\n",
       "\"\"\""
      ]
     },
     "execution_count": 20,
     "metadata": {},
     "output_type": "execute_result"
    }
   ],
   "source": [
    "clr_launch_r = clr_launch.copy()\n",
    "clr_launch_r['Successful Launch'] = clr_launch_r['Successful Launch'].apply(lambda x: abs(x-1))\n",
    "\n",
    "X = clr_launch_r['Ambient Temperature'].values\n",
    "X = sm.add_constant(X)\n",
    "\n",
    "logmodel_r = sm.Logit(clr_launch_r['Successful Launch'], X).fit()\n",
    "\n",
    "logmodel_r.summary()"
   ]
  },
  {
   "cell_type": "markdown",
   "metadata": {},
   "source": [
    "#### a. The models are mirror reflections of one another ... obviously because this is an S curve. Log- likelihood, pvals and constant / coef are all the same absolute values as the original model."
   ]
  },
  {
   "cell_type": "markdown",
   "metadata": {},
   "source": [
    "#### b. The regression coeeficients have mirrored where the constant is now positive while the coef is negative. Our temperature is multiplied by -0.2322 then has 15.0429 added to it before being thrown into a sigmoid and compressed between 0 and 1."
   ]
  },
  {
   "cell_type": "markdown",
   "metadata": {},
   "source": [
    "#### c. odds ratio's are the inverse of one another (ie. 1/1.2613...) so again ... a literal mirror reflection"
   ]
  },
  {
   "cell_type": "code",
   "execution_count": 21,
   "metadata": {},
   "outputs": [
    {
     "name": "stdout",
     "output_type": "stream",
     "text": [
      "Odds ratio for original: 1.26132498547\n",
      "Odds ratio for reversed successes: 0.79281708641\n"
     ]
    }
   ],
   "source": [
    "orig_oddr = np.exp(logmodel.params[1])\n",
    "new_oddr = np.exp(logmodel_r.params[1])\n",
    "\n",
    "print(\"Odds ratio for original: \"+str(orig_oddr))\n",
    "print(\"Odds ratio for reversed successes: \"+str(new_oddr))"
   ]
  },
  {
   "cell_type": "markdown",
   "metadata": {},
   "source": [
    "#### d. new Wald test, results are unchanged"
   ]
  },
  {
   "cell_type": "code",
   "execution_count": 22,
   "metadata": {},
   "outputs": [
    {
     "name": "stdout",
     "output_type": "stream",
     "text": [
      "The confidence interval as supplied by Wald Test is: 4.14953916593\n",
      "95% confidence interval as supplied by Wald test is: 0.04164585653161201\n"
     ]
    }
   ],
   "source": [
    "R = [[clr_launch_r['Ambient Temperature'].min(), clr_launch_r['Ambient Temperature'].min()]]\n",
    "\n",
    "\n",
    "wstat = logmodel_r.wald_test(R)\n",
    "print(\"The confidence interval as supplied by Wald Test is: \"+str(*wstat.statistic[0]))\n",
    "print(\"95% confidence interval as supplied by Wald test is: \"+str(wstat.pvalue))"
   ]
  },
  {
   "cell_type": "code",
   "execution_count": 23,
   "metadata": {},
   "outputs": [
    {
     "data": {
      "text/html": [
       "<table class=\"simpletable\">\n",
       "<caption>Logit Regression Results</caption>\n",
       "<tr>\n",
       "  <th>Dep. Variable:</th> <td>Successful Launch</td> <th>  No. Observations:  </th>  <td>    23</td> \n",
       "</tr>\n",
       "<tr>\n",
       "  <th>Model:</th>               <td>Logit</td>       <th>  Df Residuals:      </th>  <td>    21</td> \n",
       "</tr>\n",
       "<tr>\n",
       "  <th>Method:</th>               <td>MLE</td>        <th>  Df Model:          </th>  <td>     1</td> \n",
       "</tr>\n",
       "<tr>\n",
       "  <th>Date:</th>          <td>Thu, 19 Apr 2018</td>  <th>  Pseudo R-squ.:     </th>  <td>0.2813</td> \n",
       "</tr>\n",
       "<tr>\n",
       "  <th>Time:</th>              <td>09:33:12</td>      <th>  Log-Likelihood:    </th> <td> -10.158</td>\n",
       "</tr>\n",
       "<tr>\n",
       "  <th>converged:</th>           <td>True</td>        <th>  LL-Null:           </th> <td> -14.134</td>\n",
       "</tr>\n",
       "<tr>\n",
       "  <th> </th>                      <td> </td>         <th>  LLR p-value:       </th> <td>0.004804</td>\n",
       "</tr>\n",
       "</table>\n",
       "<table class=\"simpletable\">\n",
       "<tr>\n",
       "    <td></td>       <th>coef</th>     <th>std err</th>      <th>z</th>      <th>P>|z|</th>  <th>[0.025</th>    <th>0.975]</th>  \n",
       "</tr>\n",
       "<tr>\n",
       "  <th>const</th> <td>  -15.0429</td> <td>    7.379</td> <td>   -2.039</td> <td> 0.041</td> <td>  -29.505</td> <td>   -0.581</td>\n",
       "</tr>\n",
       "<tr>\n",
       "  <th>x1</th>    <td>    0.2322</td> <td>    0.108</td> <td>    2.145</td> <td> 0.032</td> <td>    0.020</td> <td>    0.444</td>\n",
       "</tr>\n",
       "</table>"
      ],
      "text/plain": [
       "<class 'statsmodels.iolib.summary.Summary'>\n",
       "\"\"\"\n",
       "                           Logit Regression Results                           \n",
       "==============================================================================\n",
       "Dep. Variable:      Successful Launch   No. Observations:                   23\n",
       "Model:                          Logit   Df Residuals:                       21\n",
       "Method:                           MLE   Df Model:                            1\n",
       "Date:                Thu, 19 Apr 2018   Pseudo R-squ.:                  0.2813\n",
       "Time:                        09:33:12   Log-Likelihood:                -10.158\n",
       "converged:                       True   LL-Null:                       -14.134\n",
       "                                        LLR p-value:                  0.004804\n",
       "==============================================================================\n",
       "                 coef    std err          z      P>|z|      [0.025      0.975]\n",
       "------------------------------------------------------------------------------\n",
       "const        -15.0429      7.379     -2.039      0.041     -29.505      -0.581\n",
       "x1             0.2322      0.108      2.145      0.032       0.020       0.444\n",
       "==============================================================================\n",
       "\"\"\""
      ]
     },
     "execution_count": 23,
     "metadata": {},
     "output_type": "execute_result"
    }
   ],
   "source": [
    "logmodel.summary()"
   ]
  },
  {
   "cell_type": "markdown",
   "metadata": {},
   "source": [
    "#### 15. Likelihood Ratio Test"
   ]
  },
  {
   "cell_type": "code",
   "execution_count": 24,
   "metadata": {},
   "outputs": [],
   "source": [
    "rest_m = np.exp(logmodel.params[0]) / (1+ np.exp(logmodel.params[0]))\n",
    "\n",
    "\n",
    "full_m = [np.exp(logmodel.params[0] + (logmodel.params[1]*x)) / \n",
    "          (1+ np.exp(logmodel.params[0]) + (logmodel.params[1]*x))\n",
    "          for x in clr_launch['Ambient Temperature'].values]"
   ]
  },
  {
   "cell_type": "code",
   "execution_count": 25,
   "metadata": {
    "collapsed": true
   },
   "outputs": [],
   "source": [
    "## Thank God they tell us how a log likelihood function works, otherwise I'd be really pissed ... :(\n",
    "## anyways here it is in black box form ...."
   ]
  },
  {
   "cell_type": "code",
   "execution_count": 26,
   "metadata": {},
   "outputs": [
    {
     "name": "stdout",
     "output_type": "stream",
     "text": [
      "Log Likelihood Ratio of logistic regression: 7.95196004643\n",
      "P value of log likelihood ratio in logistic regression: 0.00480353251014\n"
     ]
    }
   ],
   "source": [
    "lrt = logmodel.llr\n",
    "lrt_p = logmodel.llr_pvalue\n",
    "print(\"Log Likelihood Ratio of logistic regression: \"+ str(lrt))\n",
    "print(\"P value of log likelihood ratio in logistic regression: \"+str(lrt_p))"
   ]
  },
  {
   "cell_type": "markdown",
   "metadata": {},
   "source": [
    "# 7.8 Combining my love of statistical models, curing disease and breasts ..."
   ]
  },
  {
   "cell_type": "markdown",
   "metadata": {},
   "source": [
    "## 15. make a logistic regression ..."
   ]
  },
  {
   "cell_type": "code",
   "execution_count": 27,
   "metadata": {},
   "outputs": [],
   "source": [
    "cnr = pd.read_csv('C7 Cancer2.csv')"
   ]
  },
  {
   "cell_type": "code",
   "execution_count": 28,
   "metadata": {},
   "outputs": [],
   "source": [
    "formula = 'Malignant ~ radius + C(concavity)'"
   ]
  },
  {
   "cell_type": "code",
   "execution_count": 29,
   "metadata": {},
   "outputs": [
    {
     "name": "stdout",
     "output_type": "stream",
     "text": [
      "Optimization terminated successfully.\n",
      "         Current function value: 0.196851\n",
      "         Iterations 8\n"
     ]
    }
   ],
   "source": [
    "cnr_model = sm.Logit.from_formula(formula=formula, data=cnr).fit()"
   ]
  },
  {
   "cell_type": "markdown",
   "metadata": {},
   "source": [
    "#### a.  return the new model"
   ]
  },
  {
   "cell_type": "code",
   "execution_count": 30,
   "metadata": {},
   "outputs": [
    {
     "data": {
      "text/html": [
       "<table class=\"simpletable\">\n",
       "<caption>Logit Regression Results</caption>\n",
       "<tr>\n",
       "  <th>Dep. Variable:</th>     <td>Malignant</td>    <th>  No. Observations:  </th>   <td>   569</td>  \n",
       "</tr>\n",
       "<tr>\n",
       "  <th>Model:</th>               <td>Logit</td>      <th>  Df Residuals:      </th>   <td>   566</td>  \n",
       "</tr>\n",
       "<tr>\n",
       "  <th>Method:</th>               <td>MLE</td>       <th>  Df Model:          </th>   <td>     2</td>  \n",
       "</tr>\n",
       "<tr>\n",
       "  <th>Date:</th>          <td>Thu, 19 Apr 2018</td> <th>  Pseudo R-squ.:     </th>   <td>0.7019</td>  \n",
       "</tr>\n",
       "<tr>\n",
       "  <th>Time:</th>              <td>09:33:32</td>     <th>  Log-Likelihood:    </th>  <td> -112.01</td> \n",
       "</tr>\n",
       "<tr>\n",
       "  <th>converged:</th>           <td>True</td>       <th>  LL-Null:           </th>  <td> -375.72</td> \n",
       "</tr>\n",
       "<tr>\n",
       "  <th> </th>                      <td> </td>        <th>  LLR p-value:       </th> <td>2.960e-115</td>\n",
       "</tr>\n",
       "</table>\n",
       "<table class=\"simpletable\">\n",
       "<tr>\n",
       "          <td></td>             <th>coef</th>     <th>std err</th>      <th>z</th>      <th>P>|z|</th>  <th>[0.025</th>    <th>0.975]</th>  \n",
       "</tr>\n",
       "<tr>\n",
       "  <th>Intercept</th>         <td>  -13.1320</td> <td>    1.493</td> <td>   -8.795</td> <td> 0.000</td> <td>  -16.059</td> <td>  -10.205</td>\n",
       "</tr>\n",
       "<tr>\n",
       "  <th>C(concavity)[T.1]</th> <td>    3.3192</td> <td>    0.355</td> <td>    9.362</td> <td> 0.000</td> <td>    2.624</td> <td>    4.014</td>\n",
       "</tr>\n",
       "<tr>\n",
       "  <th>radius</th>            <td>    2.7175</td> <td>    0.366</td> <td>    7.418</td> <td> 0.000</td> <td>    1.999</td> <td>    3.436</td>\n",
       "</tr>\n",
       "</table>"
      ],
      "text/plain": [
       "<class 'statsmodels.iolib.summary.Summary'>\n",
       "\"\"\"\n",
       "                           Logit Regression Results                           \n",
       "==============================================================================\n",
       "Dep. Variable:              Malignant   No. Observations:                  569\n",
       "Model:                          Logit   Df Residuals:                      566\n",
       "Method:                           MLE   Df Model:                            2\n",
       "Date:                Thu, 19 Apr 2018   Pseudo R-squ.:                  0.7019\n",
       "Time:                        09:33:32   Log-Likelihood:                -112.01\n",
       "converged:                       True   LL-Null:                       -375.72\n",
       "                                        LLR p-value:                2.960e-115\n",
       "=====================================================================================\n",
       "                        coef    std err          z      P>|z|      [0.025      0.975]\n",
       "-------------------------------------------------------------------------------------\n",
       "Intercept           -13.1320      1.493     -8.795      0.000     -16.059     -10.205\n",
       "C(concavity)[T.1]     3.3192      0.355      9.362      0.000       2.624       4.014\n",
       "radius                2.7175      0.366      7.418      0.000       1.999       3.436\n",
       "=====================================================================================\n",
       "\"\"\""
      ]
     },
     "execution_count": 30,
     "metadata": {},
     "output_type": "execute_result"
    }
   ],
   "source": [
    "cnr_model.summary()"
   ]
  },
  {
   "cell_type": "markdown",
   "metadata": {},
   "source": [
    "#### b. submit the likelihood ratio test result"
   ]
  },
  {
   "cell_type": "code",
   "execution_count": 31,
   "metadata": {},
   "outputs": [
    {
     "name": "stdout",
     "output_type": "stream",
     "text": [
      "Log Likelihood Ratio Test Results: 527.424051578\n",
      "Log Likelihood Ratio p val: 2.96020909307e-115\n"
     ]
    }
   ],
   "source": [
    "print('Log Likelihood Ratio Test Results: '+str(cnr_model.llr))\n",
    "print('Log Likelihood Ratio p val: '+str(cnr_model.llr_pvalue))"
   ]
  },
  {
   "cell_type": "markdown",
   "metadata": {},
   "source": [
    "#### c. predicting for concave and round cells with radius of 4 and % chance of malignancy"
   ]
  },
  {
   "cell_type": "code",
   "execution_count": 32,
   "metadata": {},
   "outputs": [
    {
     "name": "stdout",
     "output_type": "stream",
     "text": [
      "Event probability for concave:1, radius:4: 0.742155697661\n",
      "Event probability for concave:0, radius:4: 0.0943216598264\n"
     ]
    }
   ],
   "source": [
    "c1r4 = {'concavity':[1], 'radius': [4]}\n",
    "c0r4 = {'concavity':[0], 'radius': [4]}\n",
    "\n",
    "print(\"Event probability for concave:1, radius:4: \"+str(cnr_model.predict(c1r4)[0]))\n",
    "print(\"Event probability for concave:0, radius:4: \"+str(cnr_model.predict(c0r4)[0]))"
   ]
  },
  {
   "cell_type": "markdown",
   "metadata": {},
   "source": [
    "## 16. only radius logistic regression"
   ]
  },
  {
   "cell_type": "code",
   "execution_count": 33,
   "metadata": {},
   "outputs": [
    {
     "name": "stdout",
     "output_type": "stream",
     "text": [
      "Optimization terminated successfully.\n",
      "         Current function value: 0.289992\n",
      "         Iterations 8\n"
     ]
    }
   ],
   "source": [
    "formula = 'Malignant ~ radius'\n",
    "cnr_model_rad = sm.Logit.from_formula(formula=formula, data=cnr).fit()"
   ]
  },
  {
   "cell_type": "markdown",
   "metadata": {},
   "source": [
    "#### a. radius only logistic regression model ..."
   ]
  },
  {
   "cell_type": "code",
   "execution_count": 34,
   "metadata": {},
   "outputs": [
    {
     "data": {
      "text/html": [
       "<table class=\"simpletable\">\n",
       "<caption>Logit Regression Results</caption>\n",
       "<tr>\n",
       "  <th>Dep. Variable:</th>     <td>Malignant</td>    <th>  No. Observations:  </th>  <td>   569</td>  \n",
       "</tr>\n",
       "<tr>\n",
       "  <th>Model:</th>               <td>Logit</td>      <th>  Df Residuals:      </th>  <td>   567</td>  \n",
       "</tr>\n",
       "<tr>\n",
       "  <th>Method:</th>               <td>MLE</td>       <th>  Df Model:          </th>  <td>     1</td>  \n",
       "</tr>\n",
       "<tr>\n",
       "  <th>Date:</th>          <td>Thu, 19 Apr 2018</td> <th>  Pseudo R-squ.:     </th>  <td>0.5608</td>  \n",
       "</tr>\n",
       "<tr>\n",
       "  <th>Time:</th>              <td>09:33:42</td>     <th>  Log-Likelihood:    </th> <td> -165.01</td> \n",
       "</tr>\n",
       "<tr>\n",
       "  <th>converged:</th>           <td>True</td>       <th>  LL-Null:           </th> <td> -375.72</td> \n",
       "</tr>\n",
       "<tr>\n",
       "  <th> </th>                      <td> </td>        <th>  LLR p-value:       </th> <td>1.192e-93</td>\n",
       "</tr>\n",
       "</table>\n",
       "<table class=\"simpletable\">\n",
       "<tr>\n",
       "      <td></td>         <th>coef</th>     <th>std err</th>      <th>z</th>      <th>P>|z|</th>  <th>[0.025</th>    <th>0.975]</th>  \n",
       "</tr>\n",
       "<tr>\n",
       "  <th>Intercept</th> <td>  -15.2459</td> <td>    1.325</td> <td>  -11.509</td> <td> 0.000</td> <td>  -17.842</td> <td>  -12.649</td>\n",
       "</tr>\n",
       "<tr>\n",
       "  <th>radius</th>    <td>    3.6165</td> <td>    0.326</td> <td>   11.100</td> <td> 0.000</td> <td>    2.978</td> <td>    4.255</td>\n",
       "</tr>\n",
       "</table>"
      ],
      "text/plain": [
       "<class 'statsmodels.iolib.summary.Summary'>\n",
       "\"\"\"\n",
       "                           Logit Regression Results                           \n",
       "==============================================================================\n",
       "Dep. Variable:              Malignant   No. Observations:                  569\n",
       "Model:                          Logit   Df Residuals:                      567\n",
       "Method:                           MLE   Df Model:                            1\n",
       "Date:                Thu, 19 Apr 2018   Pseudo R-squ.:                  0.5608\n",
       "Time:                        09:33:42   Log-Likelihood:                -165.01\n",
       "converged:                       True   LL-Null:                       -375.72\n",
       "                                        LLR p-value:                 1.192e-93\n",
       "==============================================================================\n",
       "                 coef    std err          z      P>|z|      [0.025      0.975]\n",
       "------------------------------------------------------------------------------\n",
       "Intercept    -15.2459      1.325    -11.509      0.000     -17.842     -12.649\n",
       "radius         3.6165      0.326     11.100      0.000       2.978       4.255\n",
       "==============================================================================\n",
       "\"\"\""
      ]
     },
     "execution_count": 34,
     "metadata": {},
     "output_type": "execute_result"
    }
   ],
   "source": [
    "cnr_model_rad.summary()"
   ]
  },
  {
   "cell_type": "markdown",
   "metadata": {},
   "source": [
    "#### b. Event probability of radius = 4"
   ]
  },
  {
   "cell_type": "code",
   "execution_count": 35,
   "metadata": {},
   "outputs": [
    {
     "name": "stdout",
     "output_type": "stream",
     "text": [
      "Event probability for radius:4: 0.314371262757\n"
     ]
    }
   ],
   "source": [
    "r4 = {'radius':[4]}\n",
    "print(\"Event probability for radius:4: \"+str(cnr_model_rad.predict(r4)[0]))"
   ]
  },
  {
   "cell_type": "markdown",
   "metadata": {},
   "source": [
    "## 17. odds ratio for concavity of 1st logistic regression"
   ]
  },
  {
   "cell_type": "code",
   "execution_count": 36,
   "metadata": {},
   "outputs": [
    {
     "name": "stdout",
     "output_type": "stream",
     "text": [
      "odds ratio for concavity: 27.6375813327\n"
     ]
    }
   ],
   "source": [
    "conc_oddr = np.exp(cnr_model.params[1])\n",
    "print('odds ratio for concavity: '+str(conc_oddr))"
   ]
  },
  {
   "cell_type": "markdown",
   "metadata": {},
   "source": [
    "## 18. Reverse the outcome variable again ..."
   ]
  },
  {
   "cell_type": "code",
   "execution_count": 37,
   "metadata": {},
   "outputs": [
    {
     "name": "stdout",
     "output_type": "stream",
     "text": [
      "Optimization terminated successfully.\n",
      "         Current function value: 0.196851\n",
      "         Iterations 8\n"
     ]
    }
   ],
   "source": [
    "cnr_rev = cnr.copy()\n",
    "cnr_rev['Malignant'] = cnr['Malignant'].apply(lambda x: abs(x-1))\n",
    "\n",
    "formula = 'Malignant ~ radius + C(concavity)'\n",
    "cnr_model_rev = sm.Logit.from_formula(formula=formula, data=cnr_rev).fit()"
   ]
  },
  {
   "cell_type": "code",
   "execution_count": 38,
   "metadata": {},
   "outputs": [
    {
     "name": "stdout",
     "output_type": "stream",
     "text": [
      "Odds ratio of our reversed logistic regression 0.0361826162703\n"
     ]
    }
   ],
   "source": [
    "conc_oddr_rev = np.exp(cnr_model_rev.params)[1]\n",
    "print('Odds ratio of our reversed logistic regression '+str(conc_oddr_rev))"
   ]
  },
  {
   "cell_type": "code",
   "execution_count": null,
   "metadata": {
    "collapsed": true
   },
   "outputs": [],
   "source": []
  }
 ],
 "metadata": {
  "kernelspec": {
   "display_name": "Python 3",
   "language": "python",
   "name": "python3"
  },
  "language_info": {
   "codemirror_mode": {
    "name": "ipython",
    "version": 3
   },
   "file_extension": ".py",
   "mimetype": "text/x-python",
   "name": "python",
   "nbconvert_exporter": "python",
   "pygments_lexer": "ipython3",
   "version": "3.6.3"
  }
 },
 "nbformat": 4,
 "nbformat_minor": 2
}
